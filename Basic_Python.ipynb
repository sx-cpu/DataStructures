{
 "cells": [
  {
   "cell_type": "markdown",
   "id": "bb3ac5ac",
   "metadata": {},
   "source": [
    "# Basic Python\n",
    "## Sequence, Selection, and Iteration\n",
    "That is, we want to have facility with both direct manipulation of\n",
    "code as well as high-level description of programs. A nice model for thinking about (imperative) programming is called Sequence-Selection-Iteration. It refers to:\n",
    "1. **Sequence:** Perforning operations one at a time in a specific order.\n",
    "2. **Selection:** Using conditional statements such as if to select which orperations to execute.\n",
    "3. **Iteration:** Repeating some operations using loops or recursion.\n",
    "\n",
    "## Expressions and Evaluation\n",
    "**Expressions** get **evaluated** and produce a **value**.\n",
    "Parentheses and the order of operations determine the order that\n",
    "the functions are evaluated. Recall that in programming the order of operations is also called **operator precedence**.\n",
    "\n",
    "## Variables, Types and State\n",
    "It often happens that you compute something and want to keep it until later when you will use it. We often refer to stored information as **state**.\n",
    "\n",
    "We store information in **variables**. In Python, a variable is created by an assignment statement. \n",
    "\n",
    "The equals sign is doing something (**assignment**) rather than describing something (equality). The right side of = is an expression that gets evaluated first. Only later does the assignment happen. If the left side of the assignment is a variable name that already exist, it is overwritten. If it doesn’t already exist, it is created.\n",
    "\n",
    "Variables are just names. Every name is associated with some piece of\n",
    "data, called an object. The name is a string of characters and it is mapped to an object.\n",
    "\n",
    "Every object has a **type**.\n",
    "\n",
    "The difference between a variable and the object it represents can get lost in our common speech because the variable is usually acting as the name of the object. There are some times when it’s useful to be clear about the difference, in particular when copying objects.\n",
    "\n",
    "You should think of an object as having three things: **an identity, a type, and a value**. Its identity cannot change. It can be used to see if two objects are actually the same object with the is keyword. For example, consider the following code."
   ]
  },
  {
   "cell_type": "code",
   "execution_count": 4,
   "id": "4ae80675",
   "metadata": {},
   "outputs": [
    {
     "name": "stdout",
     "output_type": "stream",
     "text": [
      "True\n",
      "False\n",
      "True\n"
     ]
    }
   ],
   "source": [
    "x = [1, 2, 3]\n",
    "y = x\n",
    "z = [1, 2, 3]\n",
    "print(x is y)\n",
    "print(x is z)\n",
    "print(x == z)"
   ]
  },
  {
   "cell_type": "markdown",
   "id": "75739c2e",
   "metadata": {},
   "source": [
    "An object cannot change its identity. In Python, you also cannot change the type of an object. You can reassign a variable to point to different object of a different type, but that’s not the same thing. There are several functions that may seem to be changing the types of objects, but they are really just creating a new object from the old.\n",
    "\n",
    "The value of an object may or may not be changed, depending on the\n",
    "type of object. If the value can be changed, we say that the object is **mutable**. If it cannot be changed, we say that the object is **immutable**. For example, strings are immutable. If you want to change a string, for example, by converting it to lowercase, then you will be creating a new string.\n",
    "\n",
    "## Collections\n",
    "### String\n",
    "### Lists\n",
    "### Tuples\n",
    "### Dictionaries\n",
    "Keys can be different types, but they must be immutable types such as atomic types, tuples, or strings. The reason for this requirement is that we will determine where to store something using the key. If the key changes, we will look in the wrong place when it’s time to look it up again.\n",
    "\n",
    "Dictionaries are also known as maps, mappings, or hash tables. We will go deep into how these are constructed later in the course. A dictionary doesn’t have a fixed order.\n",
    "\n",
    "### Sets\n",
    "nonsequential collections\n",
    "\n",
    "## Some common things to do with collections\n",
    "slicing a sequence\n",
    "\n",
    "## Iterating over a collection\n",
    "\n",
    "## Other Forms of Control Flow\n",
    "Control flow refers to the commands in a language that affect the order in which operations are executed. The for loops from the previous section\n",
    "is a classic examples of this. The other basic forms of control flow are if statements, while loops, try blocks, and function calls. \n",
    "\n",
    "## Modules and Imports\n",
    "As we start to write more complex programs, it starts to make sense to break up the code across several files. A single .py file is called a module. You can import one module into another using the import keyword. The name of a module, by default, is the name of the file (without the .py extension).\n",
    "\n",
    "Because the import (usually) results in the module being executed, it’s good practice to change the behavior of a script depending on whether it is being run directly, or being run as part of an import. \n",
    "\n",
    "\n",
    "\n",
    "\n",
    "\n",
    "\n",
    "\n"
   ]
  },
  {
   "cell_type": "markdown",
   "id": "2613a2a4",
   "metadata": {},
   "source": []
  }
 ],
 "metadata": {
  "kernelspec": {
   "display_name": "Xavier",
   "language": "python",
   "name": "python3"
  },
  "language_info": {
   "codemirror_mode": {
    "name": "ipython",
    "version": 3
   },
   "file_extension": ".py",
   "mimetype": "text/x-python",
   "name": "python",
   "nbconvert_exporter": "python",
   "pygments_lexer": "ipython3",
   "version": "3.12.11"
  }
 },
 "nbformat": 4,
 "nbformat_minor": 5
}
