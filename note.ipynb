{
 "cells": [
  {
   "cell_type": "markdown",
   "id": "bb3ac5ac",
   "metadata": {},
   "source": [
    "# **Chapter 2:** Basic Python\n",
    "## 2.1 Sequence, Selection, and Iteration\n",
    "That is, we want to have facility with both direct manipulation of\n",
    "code as well as high-level description of programs. A nice model for thinking about (imperative) programming is called Sequence-Selection-Iteration. It refers to:\n",
    "1. **Sequence:** Perforning operations one at a time in a specific order.\n",
    "2. **Selection:** Using conditional statements such as if to select which orperations to execute.\n",
    "3. **Iteration:** Repeating some operations using loops or recursion.\n",
    "\n",
    "## 2.2 Expressions and Evaluation\n",
    "**Expressions** get **evaluated** and produce a **value**.\n",
    "Parentheses and the order of operations determine the order that\n",
    "the functions are evaluated. Recall that in programming the order of operations is also called **operator precedence**.\n",
    "\n",
    "## 2.3 Variables, Types and State\n",
    "It often happens that you compute something and want to keep it until later when you will use it. We often refer to stored information as **state**.\n",
    "\n",
    "We store information in **variables**. In Python, a variable is created by an assignment statement. \n",
    "\n",
    "The equals sign is doing something (**assignment**) rather than describing something (equality). The right side of = is an expression that gets evaluated first. Only later does the assignment happen. If the left side of the assignment is a variable name that already exist, it is overwritten. If it doesn’t already exist, it is created.\n",
    "\n",
    "Variables are just names. Every name is associated with some piece of\n",
    "data, called an object. The name is a string of characters and it is mapped to an object.\n",
    "\n",
    "Every object has a **type**.\n",
    "\n",
    "The difference between a variable and the object it represents can get lost in our common speech because the variable is usually acting as the name of the object. There are some times when it’s useful to be clear about the difference, in particular when copying objects.\n",
    "\n",
    "You should think of an object as having three things: **an identity, a type, and a value**. Its identity cannot change. It can be used to see if two objects are actually the same object with the is keyword. For example, consider the following code."
   ]
  },
  {
   "cell_type": "code",
   "execution_count": 1,
   "id": "4ae80675",
   "metadata": {},
   "outputs": [
    {
     "name": "stdout",
     "output_type": "stream",
     "text": [
      "True\n",
      "False\n",
      "True\n"
     ]
    }
   ],
   "source": [
    "x = [1, 2, 3]\n",
    "y = x\n",
    "z = [1, 2, 3]\n",
    "print(x is y)\n",
    "print(x is z)\n",
    "print(x == z)"
   ]
  },
  {
   "cell_type": "markdown",
   "id": "75739c2e",
   "metadata": {},
   "source": [
    "An object cannot change its identity. In Python, you also cannot change the type of an object. You can reassign a variable to point to different object of a different type, but that’s not the same thing. There are several functions that may seem to be changing the types of objects, but they are really just creating a new object from the old.\n",
    "\n",
    "The value of an object may or may not be changed, depending on the\n",
    "type of object. If the value can be changed, we say that the object is **mutable**. If it cannot be changed, we say that the object is **immutable**. For example, strings are immutable. If you want to change a string, for example, by converting it to lowercase, then you will be creating a new string.\n",
    "\n",
    "## 2.4 Collections\n",
    "### String\n",
    "### Lists\n",
    "### Tuples\n",
    "### Dictionaries\n",
    "Keys can be different types, but they must be immutable types such as atomic types, tuples, or strings. The reason for this requirement is that we will determine where to store something using the key. If the key changes, we will look in the wrong place when it’s time to look it up again.\n",
    "\n",
    "Dictionaries are also known as maps, mappings, or hash tables. We will go deep into how these are constructed later in the course. A dictionary doesn’t have a fixed order.\n",
    "\n",
    "### Sets\n",
    "nonsequential collections\n",
    "\n",
    "## 2.5 Some common things to do with collections\n",
    "slicing a sequence\n",
    "\n",
    "## 2.6 Iterating over a collection\n",
    "\n",
    "## 2.7 Other Forms of Control Flow\n",
    "Control flow refers to the commands in a language that affect the order in which operations are executed. The for loops from the previous section\n",
    "is a classic examples of this. The other basic forms of control flow are if statements, while loops, try blocks, and function calls. \n",
    "\n",
    "## 2.8 Modules and Imports\n",
    "As we start to write more complex programs, it starts to make sense to break up the code across several files. A single .py file is called a module. You can import one module into another using the import keyword. The name of a module, by default, is the name of the file (without the .py extension).\n",
    "\n",
    "Because the import (usually) results in the module being executed, it’s good practice to change the behavior of a script depending on whether it is being run directly, or being run as part of an import. \n",
    "\n",
    "If you run the module directly (i.e. as a script), then the `__name__ `variable is automatically set to main . If the module is being imported, the `__name__` defaults to the module name.\n",
    "```python\n",
    "if __name__ == '__main__':\n",
    "    print('This program is being run by itself')\n",
    "```\n",
    "One caveat is that modules are only executed the first time they are\n",
    "imported. If, for example, we import the same module twice, it will only\n",
    "be executed once. \n",
    "\n",
    "\n",
    "\n",
    "\n",
    "\n"
   ]
  },
  {
   "cell_type": "markdown",
   "id": "2613a2a4",
   "metadata": {},
   "source": [
    "# **Chapter 3:** Object-Oriented Programming\n",
    "A class is a data type. In Python, type and class are (mostly) synonymous. An object is an instance of a class. For example, Python has a list class. If I make a list called mylist. Then, mylist is an object of type list.\n",
    "\n",
    "## 3.1 Example: dunder names\n",
    "\n",
    "## 3.2 Encapsulation and the Public Interface of a Class\n",
    "The first is the idea of encapsulating or combining into a single thing, data and the methods that operate on that data. In Python, this is accomplished via classes, as we have seen. \n",
    "\n",
    "The second meaning of encapsulation emphasizes the boundary between the inside and the outside of the class, specifying what is visible to the users of a class. \n",
    "\n",
    "However, there is a convention to make it clear what ought to be kept private. Any attribute that starts with an underscore is considered private. Think of it like someone’s unlocked diary.\n",
    "\n",
    "## 3.3 Inheritance and is a relationship\n",
    "\n"
   ]
  },
  {
   "cell_type": "code",
   "execution_count": 2,
   "id": "f6f01cb5",
   "metadata": {},
   "outputs": [],
   "source": [
    "class Polygon:\n",
    "    def __init__(self, sides, points):\n",
    "        self._sides = sides\n",
    "        self._points = points\n",
    "        if len(self._points) != self._sides:\n",
    "            raise ValueError(\"Wrong number of points\")\n",
    "        \n",
    "    def sides(self):\n",
    "        return self._sides\n",
    "\n",
    "class Triangle(Polygon):\n",
    "    def __init__(self, points):\n",
    "        Polygon.__init__(self, 3, points)\n",
    "\n",
    "    def __str__(self):\n",
    "        return \"I'm a triangle.\"\n",
    "    \n",
    "class Square(Polygon):\n",
    "    def __init__(self, points):\n",
    "        Polygon.__init__(self, 4, points)\n",
    "    \n",
    "    def __str__(self):\n",
    "        return \"I'm so square.\" \n"
   ]
  },
  {
   "cell_type": "markdown",
   "id": "c93abb87",
   "metadata": {},
   "source": [
    "Software engineers use the acronym DRY, to mean Don’t Repeat\n",
    "Yourself. They will even use it as an adjective, saying ”Keep the code DRY”. The process of removing duplication by putting common code into a superclass is called factoring out a superclass. This is the most common way that inheritance enters a codebase. Sometimes, opportunities for inheritance are identified at the design stage, before coding begins.\n",
    "\n",
    "## 3.4 Duck Typing\n",
    "Python has built-in (parametric) polymorphism. That means we can pass any type of object we want to a function. In fact, we could pass it any object that has a method called sides. We didn’t need inheritance in order to treat Triangles and squares as special  cases of the same object.\n",
    "\n",
    "## 3.5 Composition and \"has a\" relationship\n",
    "\n",
    "# **Chapter 4** Testing\n",
    "Python is an interpreted language. This gives it a great deal of flexibility, such as duck typing. However, this can also lead to different types of common bugs. For example, if you pass a float to a function that really should only receive an int, Python  won’t stop you, but it might lead to unexpected behavior. In general, we have to run the code to get an error, but not all\n",
    "bugs will generate errors. Towards the goal of writing correct code, we use tests to determine two things:\n",
    "1. **Does it work?**\n",
    "2. **Does it still work?**\n",
    "\n",
    "## Writing Tests\n",
    "Testing your code means writing more code that checks that the behavior matches your expectations. This is important:\n",
    "\n",
    "Test behavior, not implementation.\n",
    "\n"
   ]
  },
  {
   "cell_type": "code",
   "execution_count": 3,
   "id": "36deeaf0",
   "metadata": {},
   "outputs": [],
   "source": [
    "class Doubler:\n",
    "    def __init__(self, n):\n",
    "        self._n = 2 * n\n",
    "    def n(self):\n",
    "        return self._n\n",
    "if __name__ == '__main__':\n",
    "    x = Doubler(5)\n",
    "    assert(x.n() == 10)\n",
    "    y = Doubler(-4)\n",
    "    assert(y.n() == -8)\n"
   ]
  },
  {
   "cell_type": "markdown",
   "id": "81886ba1",
   "metadata": {},
   "source": [
    "For some, learning to test their code runs into a substantial psychological block. They feel that testing the code will reveal its flaws and thus reveal the programmer’s flaws. If you feel the slightest hesitation to testing your own code, you should practice the OGAE protocol. It stands for, Oh Good, An Error!\n",
    "\n",
    "## Unit Testing with unittest\n",
    "To make the process go smoothly, there is a standard package called unittest for writing unit tests in Python.\n",
    "\n",
    "In modern software engineering, tests are also run automatically as part of build and deployment systems.\n",
    "\n",
    "```python\n",
    "import unittest\n",
    "from dayoftheweek import DayOfTheWeek\n",
    "\n",
    "class TestDayOfTheWeek(unittest.TestCase):\n",
    "    d = DayOfTheWeek('F')\n",
    "    self.assertEquals(d.name(), 'Friday')\n",
    "\n",
    "    d = DayOfTheWeek('Th')\n",
    "    self.assertEquals(d.name(), 'Thursday')\n",
    "    \n",
    "```\n",
    "\n",
    "## 4.3 Test-Driven Development\n",
    "Test-Driven Development (TDD) is based on the simple idea that you\n",
    "can write the tests before you write the code. But won’t the test fail if the code hasn’t been written yet? Yes, if it’s a good test. What if it passes? Then, either you’re done (unlikely) or there is something wrong with your test.\n",
    "\n",
    "Writing tests first forces you to do two things:\n",
    "1. Decide how you want to be able to use some function. What should the parameters be? What should it return?\n",
    "2. Write only the code that you need. If there is code that doesn't support some desired behavior with tests, then you don't need to write it.\n",
    "\n",
    "## 4.4 What to Test\n",
    "\n",
    "## 4.5 Testing and Object-Oriented Design\n",
    "\n",
    "# **Chapter 5** Running Time Analysis\n",
    "The goal of increasing efficiency in our data structures will e the primary motivation for introducing new structures and new ideas as we proceed.\n",
    "\n",
    "## 5.1 Timing Programs\n"
   ]
  },
  {
   "cell_type": "code",
   "execution_count": 4,
   "id": "5d05510d",
   "metadata": {},
   "outputs": [
    {
     "name": "stdout",
     "output_type": "stream",
     "text": [
      "Time taken for n =  1000 :  0.02107524871826172\n",
      "Time taken for n =  1000 :  0.020946264266967773\n",
      "Time taken for n =  1000 :  0.019239187240600586\n",
      "Time taken for n =  1000 :  0.01864790916442871\n",
      "Time taken for n =  1000 :  0.018472671508789062\n"
     ]
    }
   ],
   "source": [
    "import time\n",
    "\n",
    "def duplicates1(L):\n",
    "    n = len(L)\n",
    "    for i in range(n):\n",
    "        for j in range(n):\n",
    "            if i != j and L[i] == L[j]:\n",
    "                return True\n",
    "    return False\n",
    "\n",
    "assert(duplicates1([1, 2, 6, 3, 4, 5, 6, 7, 8]))\n",
    "assert(not duplicates1([1, 2, 3, 4]))\n",
    "\n",
    "for i in range(5):\n",
    "    n = 1000\n",
    "    start = time.time()\n",
    "    duplicates1(list(range(n)))\n",
    "    timetaken = time.time() - start\n",
    "    print(\"Time taken for n = \", n, \": \", timetaken)\n"
   ]
  },
  {
   "cell_type": "markdown",
   "id": "92c4d00c",
   "metadata": {},
   "source": [
    "The main important idea is that the running time depends on the size of the input. The time goes up as the length goes up. Sometimes, the gap between two pieces of code will increase as the input size grows.\n",
    "\n",
    "## 5.2 Example: Adding the first k numbers\n",
    "\n",
    "## 5.3 Modeling the Running Time of a Program\n",
    "we will want to count operations a little more carefully. The\n",
    "unit we will use to describe the running time of an algorithm is the number of atomic operations.\n",
    "\n",
    "Atomic operations include - arithmetic and boolean operations - variable assignment - accessing the value of a variable from its name - branching (jumping to another part of the code for if/for/while statements) - calling a function - returning from a function\n",
    "\n",
    "In almost all cases, one can see the reason for the running times\n",
    "by understanding what work the algorithms must do and also how the data structure is laid out in memory.\n",
    "\n",
    "### 5.3.1 List Operations\n",
    "|Operation Name|Code|Cost|\n",
    "|:--:|:--:|:--:|\n",
    "|index access|a[i]|$1$|\n",
    "|index assignment|a[i] = x|$1$|\n",
    "|append|a.append(x)|$1$|\n",
    "|pop(from end of list)|a.pop()|$1$|\n",
    "|pop(from index i)|a.pop(i)|$n-i$|\n",
    "|insert at index i|a.insert(i,x)|$n-i$|\n",
    "|del operator|del a[i]|$n-i$|\n",
    "|membership testing|item in L|$n$|\n",
    "|slice|a[i:j]|$j-i$|\n",
    "|concatenate|a+b|$n+m$|\n",
    "|sort|a.sort()|$n log_2 n$|\n",
    "\n",
    "Note that these running times are the same for the other equential collections, list and str assuming the operation exists for those immutable types. For example, index access, membership testing, slicing, and concatenation all work. Remember that slicing and concatenation produce new objects and don’t change the originals.\n",
    "\n",
    "### 5.3.2 Dictionary Operations\n",
    "Cost: 1\n",
    "\n",
    "### 5.3.3 Set Operations\n",
    "\n",
    "## 5.4 Asymptotic Analysis and the Order of Growth\n",
    "The goal is not to predict exactly how much time an algorithm will take, but rather to predict the order of growth of the time as the input size grows.\n",
    "\n",
    "The size of the input refers to the number of bits needed to encode it.\n",
    "\n",
    "## 5.5 Focus on the Worst Case\n",
    "Usually, different inputs of the same length may have different running times. The standard convention we will use most of the time is to consider the worst case. We are looking for upper bounds on the running time.\n",
    "\n",
    "## 5.6 Big-O\n",
    "\n",
    "## 5.7 The most important features of big-O usage\n",
    "1. The big-O hides constant factors. Any term that does not depend on the size of the input is considered a constant and will be suppressed in the big-O.\n",
    "2. The big-O tells us about what will eventually be true when the input is sufficiently large.\n",
    "\n",
    "## 5.8 Practical Use of the Big-O and Common Functions\n",
    "\n",
    "## 5.9 Base for Logarithms\n",
    "You may have noticed that we didn’t give a base for the logarithm above. The reason is that inside the big-O, logarithms of any constant base are the same.\n",
    "\n",
    "\n"
   ]
  },
  {
   "cell_type": "markdown",
   "id": "28f91bd9",
   "metadata": {},
   "source": [
    "# **Chapter 6** Stacks and Queues\n",
    "## 6.1 Abstract Data Types\n",
    "Throughout the book, we will use **abstract data types** or **ADTs** as a starting point for any discussion of a particular data structure. The way we use the term ADT, it will be very similar to the term interface. An ADT answers two main questions:\n",
    "\n",
    "1. What is the data to be stored or represented?\n",
    "2. What can we do with the data?\n",
    "\n",
    "These together describe the behavior or semantics of the data structure. \n",
    "\n",
    "When we give an ADT, we will list the names of the methods that will be present, what kind of input they take, and what is their expected output. The ADT may also describe error situations and what should happen if they occur. A **data structure** is an implementation of an ADT. To make this distinction, it is  sometimes useful to call them concrete data structures, though we will usually omit the word ”concrete”.\n",
    "\n",
    "The ADT tells us what methods the data structure will implement. However, the ADT does not give an hints or prescriptions for how the data structure is implemented. This is important both as a definition, but also as a guiding design idea in object-oriented programming, that I will write it again:\n",
    "\n",
    "**The ADT should be independent of all concerns about its  implementation.**\n",
    "\n",
    "You may have noticed that the two questions ADTs answer are related to the definition of encapsulation we gave in our earlier discussion of objectoriented programming. As such, when we implement data structures in Python, we will package them as classes.\n",
    "\n",
    "## 6.2 The Stack ADT\n",
    "- **push** - add a new item to the stack\n",
    "- **pop** - remove and return the next item in Last In First Out(LIFO) ordering.\n",
    "- **peek** - return the next item in LIFO ordering\n",
    "- **size** - return the number of items in the stack(we'll use the pythonic `__len__` method)\n",
    "- **isempty** - return True if the stack has no items and return False otherwise.\n",
    "\n",
    "This ADT can be implemented quite easily using a list. We will implement it with a class called ListStack."
   ]
  },
  {
   "cell_type": "code",
   "execution_count": 12,
   "id": "c10b7425",
   "metadata": {},
   "outputs": [],
   "source": [
    "class ListStack:\n",
    "    def __init__(self):\n",
    "        self._L = []\n",
    "    def push(self, item):\n",
    "        self._L.append(item)\n",
    "    def pop(self):\n",
    "        return self._L.pop()\n",
    "    def peek(self):\n",
    "        return self._L[-1]\n",
    "    def __len__(self):\n",
    "        return len(self._L)\n",
    "    def isempty(self):\n",
    "        return len(self) == 0"
   ]
  },
  {
   "cell_type": "markdown",
   "id": "4547adf3",
   "metadata": {},
   "source": [
    "The Stack class above illustrates the object-oriented strategy of composition (the Stack has a list). It is also an example of the Wrapper Pattern. \n"
   ]
  },
  {
   "cell_type": "code",
   "execution_count": 13,
   "id": "dac60d00",
   "metadata": {},
   "outputs": [],
   "source": [
    "class BadStack(ListStack):\n",
    "    def push(self, item):\n",
    "        self._L.insert(0, item)\n",
    "    def pop(self):\n",
    "        return self._L.pop(0)\n",
    "    def peek(self):\n",
    "        return self._L[0]\n"
   ]
  },
  {
   "cell_type": "markdown",
   "id": "3dbf65f3",
   "metadata": {},
   "source": [
    "A simple asymptotic analysis shows why this implementation is far less efficient. Inserting a new item into a list requires that all the other items in the list have to move over to make room for the new item. If we insert at the beginning of the list, then every item has to be copied to a new position. Thus, the insert call in push takes O(n) time. Similarly, if we pop an item at the beginning of the list, then every other item in the list gets moved over one space to fill in the gap. Thus, the list.pop call in our pop method will take O(n) time as well. So, push and pop both take linear time in this implementation. It really earns its name.\n"
   ]
  },
  {
   "cell_type": "markdown",
   "id": "92c969de",
   "metadata": {},
   "source": [
    "## 6.3 The Queue ADT\n",
    "- enqueue(item) - Add a new item to the queue\n",
    "- dequeue() - Remove and return the next item in First In First Out (FIFO) ordring.\n",
    "- peek() - Return (without removing) the next item in the queue in FIFO order\n",
    "- `__len__` - Return the number of items in the queue.\n",
    "- isempty() - Return True if the queue has no items and return False otherwise.\n"
   ]
  },
  {
   "cell_type": "code",
   "execution_count": 15,
   "id": "5b9cb655",
   "metadata": {},
   "outputs": [],
   "source": [
    "class ListQueueSimple:\n",
    "    def __init__(self):\n",
    "        self._L = []\n",
    "    def enqueue(self, item):\n",
    "        self._L.append(item)\n",
    "    def dequeue(self, item):\n",
    "        return self._L.pop(0)\n",
    "    def peek(self):\n",
    "        return self._L[0]\n",
    "    def __len__(self):\n",
    "        return len(self._L)\n",
    "    def isempty(self):\n",
    "        return len(self) == 0\n",
    "        \n"
   ]
  },
  {
   "cell_type": "markdown",
   "id": "09ea97d5",
   "metadata": {},
   "source": [
    "Here’s a different idea. Let’s not really delete things from the front of\n",
    "the list. Instead, we’ll ignore them by keeping the index of the head of the\n",
    "queue."
   ]
  },
  {
   "cell_type": "code",
   "execution_count": 17,
   "id": "75fd255e",
   "metadata": {},
   "outputs": [],
   "source": [
    "class ListQueueFakeDelete:\n",
    "    def __init__(self):\n",
    "        self.head = 0\n",
    "        self._L = []\n",
    "    def enqueue(self, item):\n",
    "        self._L.append(item)\n",
    "    def peek(self):\n",
    "        return self._L[self._head]\n",
    "    def dequeue(self):\n",
    "        item = self.peek()\n",
    "        self._head += 1\n",
    "        return item\n",
    "    def __len__(self):\n",
    "        return len(self._L) - self._head\n",
    "    def isempty(self):\n",
    "        return len(self) == 0\n"
   ]
  },
  {
   "cell_type": "markdown",
   "id": "c23677f8",
   "metadata": {},
   "source": [
    "Shouldn’t we clean up after ourselves? Yes, but let’s wait.  Here’s the idea. If the list ever gets half empty, that is, if head is more than half the length of L, then we will bite the bullet and replace L with a slice of it. "
   ]
  },
  {
   "cell_type": "code",
   "execution_count": 19,
   "id": "dfb13f43",
   "metadata": {},
   "outputs": [],
   "source": [
    "class ListQueue(ListQueueFakeDelete):\n",
    "    def dequeue(self):\n",
    "        item = self._L[self.head]\n",
    "        self.head += 1\n",
    "        if self._head > len(self._L)//2:\n",
    "            self._L = self._L[self._head:]\n",
    "            self.head = 0\n",
    "        return item"
   ]
  },
  {
   "cell_type": "markdown",
   "id": "84d559e2",
   "metadata": {},
   "source": [
    "So, it looks like we lost all the benefits of our lazy update, because now we have a dequeue method that sometimes takes linear time. However, we don’t do that every time.\n",
    "\n",
    "How expensive is it really? If we do all our enqueue operations first, and then dequeue all our items afterwards, then some items at the end of the list get moved (i.e. copied to a new memory location during the slicing operation) many times. The first half of the items don’t get moved at all. The next quarter of the list (from 1/2 to 3/4) gets moved exactly one time.\n",
    "\n",
    "This kind of lazy update is very important. In fact, it’s how Python is able to do list.pop quickly. Technically, pop() can also take linear time for some calls but on average, the cost is constant per operation. The same idea makes append fast. In that case, Python allocates extra space for the list and every time it fills up, the list is copied to a bigger area, that roughly\n",
    "doubles in size. \n",
    "\n",
    "## 6.4 Dealing with errors\n",
    "Often, we make assumptions about how a class can or ought to be used. This is also considered part of the semantics of the class and it affects how we program it. We would like to write error-code. We’d like to make it so that it always works no  matter how it gets misused, but sometimes, an error message is the correct behavior.\n",
    "\n",
    "In Python, we raise an error the way one might throw an egg. Either someone gently catches it or it crashes. Depending on the situation, either might be the right thing to do.\n",
    "\n",
    "If we look at the error message, it seems pretty good. It says we tried to pop from empty list. But if you look at the code, you might ask, ”What list?” We know how the ListStack class is implemented, and the name even gives a hint at its  implementation, so we might guess what’s going on, but the user does have to search up the stack trace a little to see the line of their own code that caused the problem. We could catch the exception in our pop method and raise a different error so the source of the problem is more obviously the user’s code. Otherwise, the stack trace reports the error in our code. Then, a user, might have to try to understand our class in order to backtrack to understand what they did wrong in their code.  Instead, give them an error that explains exactly what happened."
   ]
  },
  {
   "cell_type": "code",
   "execution_count": 21,
   "id": "22fb497f",
   "metadata": {},
   "outputs": [],
   "source": [
    "class AnotherStack(ListStack):\n",
    "    def pop(self):\n",
    "        try:\n",
    "            return self._L.pop()\n",
    "        except IndexError:\n",
    "            raise RuntimeError(\"pop from empty stack\")"
   ]
  },
  {
   "cell_type": "markdown",
   "id": "42eec658",
   "metadata": {},
   "source": [
    "# **Deques and Linked Lists**"
   ]
  }
 ],
 "metadata": {
  "kernelspec": {
   "display_name": "Xavier",
   "language": "python",
   "name": "python3"
  },
  "language_info": {
   "codemirror_mode": {
    "name": "ipython",
    "version": 3
   },
   "file_extension": ".py",
   "mimetype": "text/x-python",
   "name": "python",
   "nbconvert_exporter": "python",
   "pygments_lexer": "ipython3",
   "version": "3.12.11"
  }
 },
 "nbformat": 4,
 "nbformat_minor": 5
}
